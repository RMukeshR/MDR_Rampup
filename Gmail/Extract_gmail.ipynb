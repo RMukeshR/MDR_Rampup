{
 "cells": [
  {
   "cell_type": "code",
   "execution_count": 8,
   "metadata": {},
   "outputs": [],
   "source": [
    "import imaplib\n",
    "import email\n",
    "user, password = \"mukesh@mydigirecords.com\", \"pxqxqndgkgzktwrs\"\n",
    "\n",
    "imap_url = 'imap.gmail.com'\n",
    "\n",
    "my_mail = imaplib.IMAP4_SSL(imap_url)\n",
    "\n",
    "my_mail.login(user, password)\n",
    "\n",
    "my_mail.select('Inbox')\n",
    "\n",
    "#Define Key and Value for email search\n",
    "#For other keys (criteria): https://gist.github.com/martinrusev/6121028#file-imap-search\n",
    "key = 'FROM'\n",
    "value = 'bnsreenu@hotmail.com'\n",
    "_, data = my_mail.search(None, key, value)  #Search for emails with specific key and value\n",
    "\n",
    "mail_id_list = data[0].split()  #IDs of all emails that we want to fetch \n",
    "\n",
    "msgs = [] # empty list to capture all messages\n",
    "#Iterate through messages and extract data into the msgs list\n",
    "for num in mail_id_list:\n",
    "    typ, data = my_mail.fetch(num, '(RFC822)') #RFC822 returns whole message (BODY fetches just body)\n",
    "    msgs.append(data)\n",
    "\n",
    "#Now we have all messages, but with a lot of details\n",
    "#Let us extract the right text and print on the screen\n",
    "\n",
    "#In a multipart e-mail, email.message.Message.get_payload() returns a \n",
    "# list with one item for each part. The easiest way is to walk the message \n",
    "# and get the payload on each part:\n",
    "# https://stackoverflow.com/questions/1463074/how-can-i-get-an-email-messages-text-content-using-python\n",
    "\n",
    "# NOTE that a Message object consists of headers and payloads.\n",
    "\n",
    "for msg in msgs[::-1]:\n",
    "    for response_part in msg:\n",
    "        if type(response_part) is tuple:\n",
    "            my_msg=email.message_from_bytes((response_part[1]))\n",
    "            print(\"_________________________________________\")\n",
    "            print (\"subj:\", my_msg['subject'])\n",
    "            print (\"from:\", my_msg['from'])\n",
    "            print (\"body:\")\n",
    "            for part in my_msg.walk():  \n",
    "                #print(part.get_content_type())\n",
    "                if part.get_content_type() == 'text/plain':\n",
    "                    print (part.get_payload())"
   ]
  },
  {
   "cell_type": "code",
   "execution_count": 6,
   "metadata": {},
   "outputs": [],
   "source": [
    "import docx\n",
    "import PyPDF2\n",
    "\n",
    "def convert_docx_to_txt(docx_path, txt_path):\n",
    "    doc = docx.Document(docx_path)\n",
    "    with open(txt_path, 'w', encoding='utf-8') as txt_file:\n",
    "        for paragraph in doc.paragraphs:\n",
    "            txt_file.write(paragraph.text + '\\n')\n",
    "\n",
    "def convert_pdf_to_txt(pdf_path, txt_path):\n",
    "    with open(pdf_path, 'rb') as pdf_file:\n",
    "        pdf_reader = PyPDF2.PdfReader(pdf_file)\n",
    "        with open(txt_path, 'w', encoding='utf-8') as txt_file:\n",
    "            for page_num in range(len(pdf_reader.pages)):\n",
    "                page = pdf_reader.pages[page_num]\n",
    "                txt_file.write(page.extract_text() + '\\n')\n",
    "\n",
    "convert_pdf_to_txt('/home/mukesh/Tensorflow/MDR_Rampup/Gmail/attachments/Re: Diagnosis report/Report (1).pdf', '/home/mukesh/Tensorflow/MDR_Rampup/Gmail/attachments/Re: Diagnosis report/Report (1).txt')\n"
   ]
  },
  {
   "cell_type": "code",
   "execution_count": null,
   "metadata": {},
   "outputs": [],
   "source": []
  }
 ],
 "metadata": {
  "kernelspec": {
   "display_name": "base",
   "language": "python",
   "name": "python3"
  },
  "language_info": {
   "codemirror_mode": {
    "name": "ipython",
    "version": 3
   },
   "file_extension": ".py",
   "mimetype": "text/x-python",
   "name": "python",
   "nbconvert_exporter": "python",
   "pygments_lexer": "ipython3",
   "version": "3.10.12"
  }
 },
 "nbformat": 4,
 "nbformat_minor": 2
}
