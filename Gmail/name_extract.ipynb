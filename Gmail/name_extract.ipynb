{
 "cells": [
  {
   "cell_type": "code",
   "execution_count": 6,
   "metadata": {},
   "outputs": [
    {
     "name": "stdout",
     "output_type": "stream",
     "text": [
      "Summary saved to: /home/mukesh/Tensorflow/MDR_Rampup/Gmail/attachments/**Diabetes Health Report**/med_report/health_report_summary.txt\n"
     ]
    }
   ],
   "source": [
    "import spacy\n",
    "\n",
    "# Load spaCy model\n",
    "nlp = spacy.load(\"en_core_web_sm\")\n",
    "\n",
    "# Input health report text\n",
    "health_report = \"\"\"\n",
    "**Diabetes Health Report**\n",
    "\n",
    " Information:\n",
    "- Name: John Doe\n",
    "- Date of Birth: January 15, 1980\n",
    "- Gender: Male\n",
    "- Address: 123 Main Street, Cityville, State, Zip Code\n",
    "- Contact Number: (555) 123-4567\n",
    "\n",
    "**Medical History:**\n",
    "- Diagnosis: Type 2 Diabetes Mellitus\n",
    "- Date of Diagnosis: August 1, 2015\n",
    "- Family History: No known family history of diabetes\n",
    "- Other Medical Conditions: Hypertension, managed with medication\n",
    "\n",
    "**Recent Laboratory Results:**\n",
    "\n",
    "1. **Blood Glucose Levels:**\n",
    "   - Fasting Blood Sugar (FBS): 150 mg/dL (Normal range: 70-99 mg/dL)\n",
    "   - Postprandial Blood Sugar (PPBS): 200 mg/dL (Normal range: <140 mg/dL)\n",
    "\n",
    "2. **Hemoglobin A1c (HbA1c):**\n",
    "   - HbA1c Level: 7.2% (Target: <7% for diabetes management)\n",
    "\n",
    "3. **Lipid Profile:**\n",
    "   - Total Cholesterol: 180 mg/dL (Normal range: <200 mg/dL)\n",
    "   - LDL Cholesterol: 100 mg/dL (Optimal range: <100 mg/dL)\n",
    "   - HDL Cholesterol: 40 mg/dL (Desirable range: >40 mg/dL for men)\n",
    "   - Triglycerides: 150 mg/dL (Normal range: <150 mg/dL)\n",
    "\n",
    "**Current Medications:**\n",
    "- Metformin 1000 mg twice daily\n",
    "- Lisinopril 10 mg once daily\n",
    "\n",
    "**Recommendations and Follow-up:**\n",
    "The patient is advised to adhere to the prescribed medication regimen, maintain a healthy diet, engage in regular physical activity, and monitor blood glucose levels regularly. Follow-up appointments are scheduled every three months for further assessment and adjustments to the treatment plan if necessary.\n",
    "\n",
    "**Lifestyle Recommendations:**\n",
    "1. Follow a balanced diet with emphasis on portion control and carbohydrate monitoring.\n",
    "2. Engage in at least 30 minutes of moderate-intensity aerobic exercise most days of the week.\n",
    "3. Monitor blood glucose levels regularly, as per the healthcare provider's instructions.\n",
    "\n",
    "**Additional Notes:**\n",
    "The patient is encouraged to reach out to the healthcare team if there are any concerns, changes in symptoms, or difficulties in managing diabetes.\n",
    "\n",
    "This report is based on the information available as of [Date of Report]. For personalized medical advice, please consult with your healthcare provider.\"\"\"\n",
    "\n",
    "# Process the text using spaCy\n",
    "doc = nlp(health_report)\n",
    "\n",
    "# Extract sentences and create a list\n",
    "sentences = [sent.text for sent in doc.sents]\n",
    "\n",
    "# Set the percentage of the original text to include in the summary\n",
    "summary_percentage = 0.5\n",
    "\n",
    "# Calculate the number of sentences to include in the summary\n",
    "num_sentences = int(len(sentences) * summary_percentage)\n",
    "\n",
    "# Create the summary by selecting the top sentences based on importance\n",
    "summary = \" \".join(sentences[:num_sentences])\n",
    "\n",
    "# Print the summary\n",
    "# print(summary)\n",
    "\n",
    "\n",
    "# Specify the path for the output text file\n",
    "output_file_path = \"/home/mukesh/Tensorflow/MDR_Rampup/Gmail/attachments/**Diabetes Health Report**/med_report/health_report_summary.txt\"\n",
    "\n",
    "# Write the summary to the output file\n",
    "with open(output_file_path, \"w\") as output_file:\n",
    "    output_file.write(summary)\n",
    "\n",
    "print(f\"Summary saved to: {output_file_path}\")\n",
    "\n"
   ]
  },
  {
   "cell_type": "code",
   "execution_count": 3,
   "metadata": {},
   "outputs": [
    {
     "name": "stdout",
     "output_type": "stream",
     "text": [
      "Patient Name: John Doe\n"
     ]
    }
   ],
   "source": [
    "import re\n",
    "\n",
    "# File path to the health report\n",
    "health_report_path = \"/home/mukesh/Tensorflow/MDR_Rampup/Gmail/attachments/**Diabetes Health Report**/sample_report1.txt\"\n",
    "\n",
    "# Read the content of the health report file\n",
    "with open(health_report_path, \"r\", encoding=\"utf-8\") as file:\n",
    "    health_report_content = file.read()\n",
    "\n",
    "# Define a regular expression pattern to find the patient's name\n",
    "name_pattern = re.compile(r\"Name: ([^\\n]+)\")\n",
    "\n",
    "# Search for the pattern in the health report content\n",
    "match = name_pattern.search(health_report_content)\n",
    "\n",
    "# Check if a match is found\n",
    "if match:\n",
    "    # Extract and print the patient's name\n",
    "    patient_name = match.group(1)\n",
    "    print(\"Patient Name:\", patient_name)\n",
    "else:\n",
    "    print(\"Patient name not found.\")\n"
   ]
  },
  {
   "cell_type": "code",
   "execution_count": null,
   "metadata": {},
   "outputs": [],
   "source": []
  },
  {
   "cell_type": "code",
   "execution_count": null,
   "metadata": {},
   "outputs": [],
   "source": []
  }
 ],
 "metadata": {
  "kernelspec": {
   "display_name": "venv",
   "language": "python",
   "name": "python3"
  },
  "language_info": {
   "codemirror_mode": {
    "name": "ipython",
    "version": 3
   },
   "file_extension": ".py",
   "mimetype": "text/x-python",
   "name": "python",
   "nbconvert_exporter": "python",
   "pygments_lexer": "ipython3",
   "version": "3.10.12"
  }
 },
 "nbformat": 4,
 "nbformat_minor": 2
}
