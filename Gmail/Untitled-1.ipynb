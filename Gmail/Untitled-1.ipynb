{
 "cells": [
  {
   "cell_type": "code",
   "execution_count": 24,
   "metadata": {},
   "outputs": [
    {
     "name": "stdout",
     "output_type": "stream",
     "text": [
      "sample_report2.txt\n",
      "sample_report1.txt\n",
      "sample_report3.txt\n",
      "email_info.txt\n"
     ]
    }
   ],
   "source": [
    "import spacy\n",
    "import os\n",
    "\n",
    "nlp = spacy.load(\"en_core_web_sm\")\n",
    "\n",
    "path = '/home/mukesh/Tensorflow/MDR_Rampup/Gmail/attachments/**Diabetes Health Report**'\n",
    "\n",
    "for i in os.walk(path):    \n",
    "    for j in i[-1]:\n",
    "        if \".txt\" in j:\n",
    "            print(j)    \n"
   ]
  },
  {
   "cell_type": "code",
   "execution_count": 25,
   "metadata": {},
   "outputs": [
    {
     "name": "stdout",
     "output_type": "stream",
     "text": [
      "/home/mukesh/Tensorflow/MDR_Rampup/Gmail/attachments/**Diabetes Health Report**/sample_report2.txt\n",
      "/home/mukesh/Tensorflow/MDR_Rampup/Gmail/attachments/**Diabetes Health Report**/sample_report1.txt\n",
      "/home/mukesh/Tensorflow/MDR_Rampup/Gmail/attachments/**Diabetes Health Report**/sample_report3.txt\n",
      "/home/mukesh/Tensorflow/MDR_Rampup/Gmail/attachments/**Diabetes Health Report**/email_info.txt\n"
     ]
    }
   ],
   "source": [
    "import spacy\n",
    "import os\n",
    "\n",
    "nlp = spacy.load(\"en_core_web_sm\")\n",
    "\n",
    "path = '/home/mukesh/Tensorflow/MDR_Rampup/Gmail/attachments/**Diabetes Health Report**'\n",
    "\n",
    "for root, dirs, files in os.walk(path):\n",
    "    for file in files:\n",
    "        if file.endswith(\".txt\"):\n",
    "            file_path = os.path.join(root, file)\n",
    "            print(file_path)\n"
   ]
  },
  {
   "cell_type": "code",
   "execution_count": 28,
   "metadata": {},
   "outputs": [
    {
     "name": "stdout",
     "output_type": "stream",
     "text": [
      "Patient Name: Mukesh\n",
      "File saved in: /home/mukesh/Tensorflow/MDR_Rampup/Gmail/attachments/**Diabetes Health Report**/med_report/sample_report2.txt\n"
     ]
    }
   ],
   "source": [
    "import re\n",
    "import os\n",
    "import shutil\n",
    "\n",
    "# File path to the health report\n",
    "health_report_path = \"/home/mukesh/Tensorflow/MDR_Rampup/Gmail/attachments/**Diabetes Health Report**/sample_report2.txt\"\n",
    "\n",
    "# Read the content of the health report file\n",
    "with open(health_report_path, \"r\", encoding=\"utf-8\") as file:\n",
    "    health_report_content = file.read()\n",
    "\n",
    "# Define a regular expression pattern to find the patient's name\n",
    "name_pattern = re.compile(r\"Name: ([^\\n]+)\")\n",
    "\n",
    "# Search for the pattern in the health report content\n",
    "match = name_pattern.search(health_report_content)\n",
    "\n",
    "# Check if a match is found\n",
    "if match:\n",
    "    # Extract and print the patient's name\n",
    "    patient_name = match.group(1)\n",
    "    print(\"Patient Name:\", patient_name)\n",
    "\n",
    "    # Check if the patient name is \"XXX\"\n",
    "    if patient_name == \"Mukesh\":\n",
    "        # Specify the folder where you want to save the file\n",
    "        save_folder = \"/home/mukesh/Tensorflow/MDR_Rampup/Gmail/attachments/**Diabetes Health Report**/med_report\"\n",
    "\n",
    "        # Create the save folder if it doesn't exist\n",
    "        if not os.path.exists(save_folder):\n",
    "            os.makedirs(save_folder)\n",
    "\n",
    "        # Construct the new file path in the save folder\n",
    "        new_file_path = os.path.join(save_folder, os.path.basename(health_report_path))\n",
    "\n",
    "        # Copy the original file to the new location\n",
    "        shutil.copy(health_report_path, new_file_path)\n",
    "\n",
    "        print(\"File saved in:\", new_file_path)\n",
    "    else:\n",
    "        print(\"Patient name does not match.\")\n",
    "else:\n",
    "    print(\"Patient name not found.\")\n"
   ]
  },
  {
   "cell_type": "code",
   "execution_count": null,
   "metadata": {},
   "outputs": [],
   "source": []
  },
  {
   "cell_type": "code",
   "execution_count": null,
   "metadata": {},
   "outputs": [],
   "source": []
  },
  {
   "cell_type": "code",
   "execution_count": null,
   "metadata": {},
   "outputs": [],
   "source": []
  },
  {
   "cell_type": "code",
   "execution_count": null,
   "metadata": {},
   "outputs": [],
   "source": []
  },
  {
   "cell_type": "code",
   "execution_count": null,
   "metadata": {},
   "outputs": [],
   "source": []
  },
  {
   "cell_type": "code",
   "execution_count": 30,
   "metadata": {},
   "outputs": [
    {
     "name": "stdout",
     "output_type": "stream",
     "text": [
      "/home/mukesh/Tensorflow/MDR_Rampup/Gmail/attachments/**Diabetes Health Report**/sample_report2.txt\n",
      "File saved in: /home/mukesh/Tensorflow/MDR_Rampup/Gmail/attachments/**Diabetes Health Report**/med_report/sample_report2.txt\n",
      "/home/mukesh/Tensorflow/MDR_Rampup/Gmail/attachments/**Diabetes Health Report**/sample_report1.txt\n",
      "Patient name does not match.\n",
      "/home/mukesh/Tensorflow/MDR_Rampup/Gmail/attachments/**Diabetes Health Report**/sample_report3.txt\n",
      "File saved in: /home/mukesh/Tensorflow/MDR_Rampup/Gmail/attachments/**Diabetes Health Report**/med_report/sample_report3.txt\n",
      "/home/mukesh/Tensorflow/MDR_Rampup/Gmail/attachments/**Diabetes Health Report**/email_info.txt\n",
      "Patient name not found.\n",
      "/home/mukesh/Tensorflow/MDR_Rampup/Gmail/attachments/**Diabetes Health Report**/med_report/sample_report2.txt\n",
      "Source and destination are the same. File not copied.\n",
      "/home/mukesh/Tensorflow/MDR_Rampup/Gmail/attachments/**Diabetes Health Report**/med_report/sample_report3.txt\n",
      "Source and destination are the same. File not copied.\n"
     ]
    }
   ],
   "source": [
    "import spacy\n",
    "import os\n",
    "import re\n",
    "import shutil\n",
    "\n",
    "nlp = spacy.load(\"en_core_web_sm\")\n",
    "\n",
    "path = '/home/mukesh/Tensorflow/MDR_Rampup/Gmail/attachments/**Diabetes Health Report**'\n",
    "\n",
    "for root, dirs, files in os.walk(path):\n",
    "    for file in files:\n",
    "        if file.endswith(\".txt\"):\n",
    "            file_path = os.path.join(root, file)\n",
    "            print(file_path)\n",
    "\n",
    "            health_report_path = file_path\n",
    "\n",
    "            # Read the content of the health report file\n",
    "            with open(health_report_path, \"r\", encoding=\"utf-8\") as file:\n",
    "                health_report_content = file.read()\n",
    "\n",
    "            # Define a regular expression pattern to find the patient's name\n",
    "            name_pattern = re.compile(r\"Name: ([^\\n]+)\")\n",
    "\n",
    "            # Search for the pattern in the health report content\n",
    "            match = name_pattern.search(health_report_content)\n",
    "\n",
    "            # Check if a match is found\n",
    "            if match:\n",
    "                # Extract and print the patient's name\n",
    "                patient_name = match.group(1)\n",
    "                name = patient_name.lower()\n",
    "                if patient_name == \"Mukesh\":\n",
    "                    # Specify the folder where you want to save the file\n",
    "                    save_folder = \"/home/mukesh/Tensorflow/MDR_Rampup/Gmail/attachments/**Diabetes Health Report**/med_report\"\n",
    "\n",
    "                    # Create the save folder if it doesn't exist\n",
    "                    if not os.path.exists(save_folder):\n",
    "                        os.makedirs(save_folder)\n",
    "\n",
    "                    # Construct the new file path in the save folder\n",
    "                    new_file_path = os.path.join(save_folder, os.path.basename(health_report_path))\n",
    "\n",
    "                    # Check if source and destination are the same\n",
    "                    if os.path.abspath(health_report_path) != os.path.abspath(new_file_path):\n",
    "                        # Copy the original file to the new location\n",
    "                        shutil.copy(health_report_path, new_file_path)\n",
    "                        print(\"File saved in:\", new_file_path)\n",
    "                    else:\n",
    "                        print(\"Source and destination are the same. File not copied.\")\n",
    "                else:\n",
    "                    print(\"Patient name does not match.\")\n",
    "            else:\n",
    "                print(\"Patient name not found.\")\n"
   ]
  },
  {
   "cell_type": "code",
   "execution_count": null,
   "metadata": {},
   "outputs": [],
   "source": []
  }
 ],
 "metadata": {
  "kernelspec": {
   "display_name": "venv",
   "language": "python",
   "name": "python3"
  },
  "language_info": {
   "codemirror_mode": {
    "name": "ipython",
    "version": 3
   },
   "file_extension": ".py",
   "mimetype": "text/x-python",
   "name": "python",
   "nbconvert_exporter": "python",
   "pygments_lexer": "ipython3",
   "version": "3.10.12"
  }
 },
 "nbformat": 4,
 "nbformat_minor": 2
}
