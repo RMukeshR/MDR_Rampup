{
 "cells": [
  {
   "cell_type": "code",
   "execution_count": null,
   "metadata": {},
   "outputs": [],
   "source": [
    "from transformers import pipeline\n",
    "from transformers import AutoTokenizer, AutoModelForTokenClassification\n",
    "\n",
    "tokenizer = AutoTokenizer.from_pretrained(\"d4data/biomedical-ner-all\")\n",
    "model = AutoModelForTokenClassification.from_pretrained(\"d4data/biomedical-ner-all\")\n",
    "\n",
    "pipe = pipeline(\"ner\", model=model, tokenizer=tokenizer, aggregation_strategy=\"simple\") # pass device=0 if using gpu\n",
    "out = pipe(\"\"\"The patient reported no recurrence of palpitations at follow-up 6 months after the ablation.\"\"\")\n"
   ]
  },
  {
   "cell_type": "code",
   "execution_count": null,
   "metadata": {},
   "outputs": [],
   "source": [
    "out"
   ]
  },
  {
   "cell_type": "code",
   "execution_count": 4,
   "metadata": {},
   "outputs": [
    {
     "name": "stderr",
     "output_type": "stream",
     "text": [
      "/data1/home/mukeshram/miniconda3/lib/python3.10/site-packages/transformers/pipelines/token_classification.py:169: UserWarning: `grouped_entities` is deprecated and will be removed in version v5.0.0, defaulted to `aggregation_strategy=\"simple\"` instead.\n",
      "  warnings.warn(\n",
      "/data1/home/mukeshram/miniconda3/lib/python3.10/site-packages/Bio_Epidemiology_NER/bio_recognizer.py:94: FutureWarning: The frame.append method is deprecated and will be removed from pandas in a future version. Use pandas.concat instead.\n",
      "  final_df = final_df.append(disease_df) # adding the disease_df to existing\n",
      "/data1/home/mukeshram/miniconda3/lib/python3.10/site-packages/Bio_Epidemiology_NER/bio_recognizer.py:100: FutureWarning: The frame.append method is deprecated and will be removed from pandas in a future version. Use pandas.concat instead.\n",
      "  master_df = master_df.append(final_df)\n",
      "/data1/home/mukeshram/miniconda3/lib/python3.10/site-packages/Bio_Epidemiology_NER/bio_recognizer.py:94: FutureWarning: The frame.append method is deprecated and will be removed from pandas in a future version. Use pandas.concat instead.\n",
      "  final_df = final_df.append(disease_df) # adding the disease_df to existing\n",
      "/data1/home/mukeshram/miniconda3/lib/python3.10/site-packages/Bio_Epidemiology_NER/bio_recognizer.py:100: FutureWarning: The frame.append method is deprecated and will be removed from pandas in a future version. Use pandas.concat instead.\n",
      "  master_df = master_df.append(final_df)\n",
      "/data1/home/mukeshram/miniconda3/lib/python3.10/site-packages/Bio_Epidemiology_NER/bio_recognizer.py:94: FutureWarning: The frame.append method is deprecated and will be removed from pandas in a future version. Use pandas.concat instead.\n",
      "  final_df = final_df.append(disease_df) # adding the disease_df to existing\n",
      "/data1/home/mukeshram/miniconda3/lib/python3.10/site-packages/Bio_Epidemiology_NER/bio_recognizer.py:100: FutureWarning: The frame.append method is deprecated and will be removed from pandas in a future version. Use pandas.concat instead.\n",
      "  master_df = master_df.append(final_df)\n",
      "/data1/home/mukeshram/miniconda3/lib/python3.10/site-packages/Bio_Epidemiology_NER/bio_recognizer.py:94: FutureWarning: The frame.append method is deprecated and will be removed from pandas in a future version. Use pandas.concat instead.\n",
      "  final_df = final_df.append(disease_df) # adding the disease_df to existing\n",
      "/data1/home/mukeshram/miniconda3/lib/python3.10/site-packages/Bio_Epidemiology_NER/bio_recognizer.py:100: FutureWarning: The frame.append method is deprecated and will be removed from pandas in a future version. Use pandas.concat instead.\n",
      "  master_df = master_df.append(final_df)\n",
      "/data1/home/mukeshram/miniconda3/lib/python3.10/site-packages/Bio_Epidemiology_NER/bio_recognizer.py:94: FutureWarning: The frame.append method is deprecated and will be removed from pandas in a future version. Use pandas.concat instead.\n",
      "  final_df = final_df.append(disease_df) # adding the disease_df to existing\n",
      "/data1/home/mukeshram/miniconda3/lib/python3.10/site-packages/Bio_Epidemiology_NER/bio_recognizer.py:100: FutureWarning: The frame.append method is deprecated and will be removed from pandas in a future version. Use pandas.concat instead.\n",
      "  master_df = master_df.append(final_df)\n",
      "/data1/home/mukeshram/miniconda3/lib/python3.10/site-packages/Bio_Epidemiology_NER/bio_recognizer.py:94: FutureWarning: The frame.append method is deprecated and will be removed from pandas in a future version. Use pandas.concat instead.\n",
      "  final_df = final_df.append(disease_df) # adding the disease_df to existing\n",
      "/data1/home/mukeshram/miniconda3/lib/python3.10/site-packages/Bio_Epidemiology_NER/bio_recognizer.py:100: FutureWarning: The frame.append method is deprecated and will be removed from pandas in a future version. Use pandas.concat instead.\n",
      "  master_df = master_df.append(final_df)\n",
      "/data1/home/mukeshram/miniconda3/lib/python3.10/site-packages/Bio_Epidemiology_NER/bio_recognizer.py:94: FutureWarning: The frame.append method is deprecated and will be removed from pandas in a future version. Use pandas.concat instead.\n",
      "  final_df = final_df.append(disease_df) # adding the disease_df to existing\n",
      "/data1/home/mukeshram/miniconda3/lib/python3.10/site-packages/Bio_Epidemiology_NER/bio_recognizer.py:100: FutureWarning: The frame.append method is deprecated and will be removed from pandas in a future version. Use pandas.concat instead.\n",
      "  master_df = master_df.append(final_df)\n"
     ]
    }
   ],
   "source": [
    "# load all the functions\n",
    "from Bio_Epidemiology_NER.bio_recognizer import ner_prediction\n",
    "\n",
    "# returns the predicted class along with the probability of the actual EnvBert model\n",
    "doc = \"\"\"\n",
    "\n",
    "Timings :\n",
    "Yashoda Super Speciality Hospital\n",
    "Dr. Alok Sehgal\n",
    "Nehru Nagar, Ghaziabad\n",
    "10.00 AM to 2.00 PM\n",
    "Mon. to Fri.\n",
    "MD.(Medicine), D.M. (Cardiology) Gold Medalist FESC\n",
    "Consultant Interventional Cardiology\n",
    "Clinic :\n",
    "6.00 PM to 8.00 PM\n",
    "Formerly at :\n",
    "II- E/146, Nehru Nagar,\n",
    "Ghaziabad\n",
    "CMC Vellore\n",
    "Escorts Heart Institute & Research Centre, New Delhi\n",
    "Mon. to Sat.\n",
    "S.G.P.G.I Lucknow\n",
    "For Appointment : 0120-4284907\n",
    "Life Member :\n",
    "Mob. : 7303368273\n",
    "Cardiological Society of India\n",
    "Pediatric Cardiac Society of India\n",
    "Indian Academy of Echocardiography\n",
    "40 kishore\n",
    "Reg. No.- 43642 (U.P.)\n",
    "Mr Jitender\n",
    "4646 IM\n",
    "HTW(nor a T/H)\n",
    "DM\n",
    "19/2/20\n",
    "qu Headache\n",
    "Nech pain\n",
    "ODE PR- 70 /min -160/2004\n",
    "BA\n",
    "Cor was\n",
    "Ade\n",
    "HbAt\n",
    "-1)\n",
    "T. Tellory your OD P (LEVEN\n",
    "KFT\n",
    "22\n",
    "Augmentin 625 Duo Tablet\n",
    "Ascoril D Plus Syrup Sugar Free\n",
    "\n",
    "T. Glycibheye 500 My DD -\n",
    "15days\n",
    "&\n",
    "FACILITIES : ADULT ECHOCARDIOGRAPHY, PEDIATRIC & NEONATAL ECHOCRDIOGRAPHY E.C.G., AMBULATORY BP\n",
    "\n",
    "      \"\"\"\n",
    "\n",
    "# returns a dataframe output\n",
    "out = ner_prediction(corpus=doc, compute='cpu') #pass compute='gpu' if using gpu\n"
   ]
  },
  {
   "cell_type": "code",
   "execution_count": 2,
   "metadata": {},
   "outputs": [],
   "source": [
    "# out"
   ]
  },
  {
   "cell_type": "code",
   "execution_count": 5,
   "metadata": {},
   "outputs": [
    {
     "name": "stdout",
     "output_type": "stream",
     "text": [
      "['Augmentin', 'Ascoril', 'Ascoril DM ODE OD Duo D DD ADULT ECHOCARDIOGRAPHY PEDIATRIC ECHOCRDIOGRAPHY', 'Sugar', 'Glycibheye']\n"
     ]
    }
   ],
   "source": [
    "Medication = []\n",
    "Sign_symptom=[]\n",
    "\n",
    "medication_df = out[out['entity_group'] == 'Medication']\n",
    "Sign_symptom_df = out[out['entity_group'] == 'Sign_symptom']\n",
    "\n",
    "\n",
    "Medication.extend(medication_df['value'].tolist())\n",
    "Sign_symptom.extend(Sign_symptom_df['value'].tolist())\n",
    "\n",
    "\n",
    "print(Medication)\n",
    "# print(Sign_symptom)\n"
   ]
  },
  {
   "cell_type": "code",
   "execution_count": null,
   "metadata": {},
   "outputs": [],
   "source": []
  },
  {
   "cell_type": "code",
   "execution_count": null,
   "metadata": {},
   "outputs": [],
   "source": []
  },
  {
   "cell_type": "code",
   "execution_count": 26,
   "metadata": {},
   "outputs": [
    {
     "name": "stderr",
     "output_type": "stream",
     "text": [
      "/data1/home/mukeshram/miniconda3/lib/python3.10/site-packages/transformers/pipelines/token_classification.py:169: UserWarning: `grouped_entities` is deprecated and will be removed in version v5.0.0, defaulted to `aggregation_strategy=\"simple\"` instead.\n",
      "  warnings.warn(\n",
      "/data1/home/mukeshram/miniconda3/lib/python3.10/site-packages/Bio_Epidemiology_NER/bio_recognizer.py:94: FutureWarning: The frame.append method is deprecated and will be removed from pandas in a future version. Use pandas.concat instead.\n",
      "  final_df = final_df.append(disease_df) # adding the disease_df to existing\n",
      "/data1/home/mukeshram/miniconda3/lib/python3.10/site-packages/Bio_Epidemiology_NER/bio_recognizer.py:100: FutureWarning: The frame.append method is deprecated and will be removed from pandas in a future version. Use pandas.concat instead.\n",
      "  master_df = master_df.append(final_df)\n"
     ]
    }
   ],
   "source": [
    "doc = \"\"\"\n",
    "I\n",
    "mak\n",
    "CREA\n",
    "HAVE\n",
    "bui\n",
    "celebrate life\n",
    "camp\n",
    "HYDROCHLOROTH-\n",
    "MA\n",
    "AZIDE\n",
    "Roast Mars\n",
    "12.5 MG TB\n",
    "Common brand(s) Microzide\n",
    "Take 1 tablet by mouth\n",
    "every day\n",
    "      \"\"\"\n",
    "\n",
    "out = ner_prediction(corpus=doc, compute='cpu')"
   ]
  },
  {
   "cell_type": "code",
   "execution_count": 27,
   "metadata": {},
   "outputs": [
    {
     "name": "stdout",
     "output_type": "stream",
     "text": [
      "['HYDROCHLOROTH-', 'AZIDE', 'Roast Mars s', 'Microzide']\n",
      "[]\n"
     ]
    }
   ],
   "source": [
    "Medication = []\n",
    "Sign_symptom=[]\n",
    "\n",
    "medication_df = out[out['entity_group'] == 'Medication']\n",
    "Sign_symptom_df = out[out['entity_group'] == 'Sign_symptom']\n",
    "\n",
    "\n",
    "Medication.extend(medication_df['value'].tolist())\n",
    "Sign_symptom.extend(Sign_symptom_df['value'].tolist())\n",
    "\n",
    "\n",
    "print(Medication)\n",
    "print(Sign_symptom)"
   ]
  },
  {
   "cell_type": "code",
   "execution_count": null,
   "metadata": {},
   "outputs": [],
   "source": []
  },
  {
   "cell_type": "code",
   "execution_count": null,
   "metadata": {},
   "outputs": [],
   "source": []
  },
  {
   "cell_type": "code",
   "execution_count": null,
   "metadata": {},
   "outputs": [],
   "source": []
  },
  {
   "cell_type": "code",
   "execution_count": null,
   "metadata": {},
   "outputs": [],
   "source": []
  }
 ],
 "metadata": {
  "kernelspec": {
   "display_name": "base",
   "language": "python",
   "name": "python3"
  },
  "language_info": {
   "codemirror_mode": {
    "name": "ipython",
    "version": 3
   },
   "file_extension": ".py",
   "mimetype": "text/x-python",
   "name": "python",
   "nbconvert_exporter": "python",
   "pygments_lexer": "ipython3",
   "version": "3.10.9"
  },
  "orig_nbformat": 4
 },
 "nbformat": 4,
 "nbformat_minor": 2
}
