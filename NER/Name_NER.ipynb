{
 "cells": [
  {
   "cell_type": "code",
   "execution_count": 1,
   "metadata": {},
   "outputs": [
    {
     "name": "stderr",
     "output_type": "stream",
     "text": [
      "2023-09-30 17:19:51.216508: I tensorflow/core/platform/cpu_feature_guard.cc:182] This TensorFlow binary is optimized to use available CPU instructions in performance-critical operations.\n",
      "To enable the following instructions: AVX2 FMA, in other operations, rebuild TensorFlow with the appropriate compiler flags.\n",
      "2023-09-30 17:19:53.813377: W tensorflow/compiler/tf2tensorrt/utils/py_utils.cc:38] TF-TRT Warning: Could not find TensorRT\n"
     ]
    }
   ],
   "source": [
    "import spacy\n",
    "from spacy.lang.en import English\n",
    "from spacy.pipeline import EntityRuler"
   ]
  },
  {
   "cell_type": "code",
   "execution_count": 2,
   "metadata": {},
   "outputs": [],
   "source": [
    "with open(\"/data1/home/mukeshram/Natural_Language_Processing/NER/data/text_data/outputfile.txt\", \"r\", encoding='UTF-8') as file:\n",
    "    data =  file.read()\n",
    "\n"
   ]
  },
  {
   "cell_type": "code",
   "execution_count": 3,
   "metadata": {},
   "outputs": [
    {
     "data": {
      "text/plain": [
       "'\\nTimings :\\nYashoda Super Speciality Hospital\\nDr. Alok Sehgal\\nNehru Nagar, Ghaziabad\\n10.00 AM to 2.00 PM\\nMon. to Fri.\\nMD.(Medicine), D.M. (Cardiology) Gold Medalist FESC\\nConsultant Interventional Cardiology\\nClinic :\\n6.00 PM to 8.00 PM\\nFormerly at :\\nII- E/146, Nehru Nagar,\\nGhaziabad\\nCMC Vellore\\nEscorts Heart Institute & Research Centre, New Delhi\\nMon. to Sat.\\nS.G.P.G.I Lucknow\\nFor Appointment : 0120-4284907\\nLife Member :\\nMob. : 7303368273\\nCardiological Society of India\\nPediatric Cardiac Society of India\\nIndian Academy of Echocardiography\\n40 kishore\\nReg. No.- 43642 (U.P.)\\nMr Jitender\\n4646 IM\\nHTW(nor a T/H)\\nDM\\n19/2/20\\nqu Headache\\nNech pain\\nODE PR- 70 /min -160/2004\\nBA\\nCor was\\nAde\\nHbAt\\n-1)\\nT. Tellory your OD P (LEVEN\\nKFT\\n22\\nT. Glycibheye 500 My DD -\\n15days\\n&\\nFACILITIES : ADULT ECHOCARDIOGRAPHY, PEDIATRIC & NEONATAL ECHOCRDIOGRAPHY E.C.G., AMBULATORY BP'"
      ]
     },
     "execution_count": 3,
     "metadata": {},
     "output_type": "execute_result"
    }
   ],
   "source": [
    "data"
   ]
  },
  {
   "cell_type": "code",
   "execution_count": 10,
   "metadata": {},
   "outputs": [],
   "source": [
    "raw_text = \"\"\"\n",
    "\n",
    "\n",
    "Dr. Neelabh\n",
    "M.B.B.S., D.ORTH., D.N.B. MNAMS (Gold Medalist)\n",
    "Fellow Spinal Surgeon (France); Consultant Orthopaedic, Joint Replacement & Spinal Surgeon\n",
    "healthybones.in\n",
    "your joints specialist\n",
    "(Regn. No. 3079/DMC)\n",
    "Cell: 9810117204 e-mail: drneelabh @healthybones. . drneelabh@yahoo.co.in\n",
    "Mr. viren Agrawal\n",
    "20/17/18\n",
    "0 Pain R beel\n",
    "24y1m\n",
    "n/o 40 Rain B inice\n",
    "Jumping - week ago\n",
    "bad eten.\n",
    "osteoporoni\n",
    "view\n",
    "he\n",
    "R\n",
    "1)2-lay\n",
    "Ankle L hat Anial new for cleanum\n",
    "Alview\n",
    "2) Calcium, uric acid, TSH, 25-0K vit Dlend\n",
    "warm ealine fementation locally\n",
    "3) 4) Jack ANSUPER PLUS 1 tak daily 1/2 home\n",
    "a 5) before Table NUCOXIA mealx 3 P 1 weak tab 2 times daily\n",
    "mealx 3 weeken\n",
    "had\n",
    "6) after silean bed pad application R\n",
    "7) Review with reports\n",
    "mealable\n",
    "vb. 14.9; TLC:7,850 (P60L26) we : 35,\n",
    "creat 0.99 U.A.5.8; FBS:85; ESR: 13\n",
    "Ca : 9.9; ALP:75 25-04 it D:7.69mg\n",
    "T3 46 (v) i Ty : 1.4 (v) TSK:2;\n",
    "(vit B12:198;\n",
    "Rs 1) Jab GOLDCAL D3160K) tabs) lab On alternate\n",
    "days 2) fab x 3 MAXNURON weeks (10 I tab 2 times daily\n",
    "x3mmth\n",
    "BONE\n",
    "JOINTS\n",
    "SPINE\n",
    "3) Recirous +/t to continue as before\n",
    "Kaira Hospital Timing 10:00 am 12:00 Noon; A-5 & 6. Kirti Nagar, New Delhi Ph 45005600 / 45005700\n",
    "Kapoor Medical Centre Timing 12:30 pm 1:30 pm E-18, Naraina, New Delhi Ph 7533077777/25897116\n",
    "KALRA\n",
    "Jeewan Hospital Timing 4:00 pm 6:00 pm; 2-B, Pusa Road, New Delhi Ph 42430246/47/48/49\n",
    "HOSPITAL BACKO\n",
    "Clinic Intermed Timing 6:00 pm 8:00 pm; 38/16, East Patel Nagar, New Delhi-110008 Ph 25853400/1800 \"\"\""
   ]
  },
  {
   "cell_type": "code",
   "execution_count": 11,
   "metadata": {},
   "outputs": [],
   "source": [
    "import pandas as pd\n",
    "Name_data = pd.read_csv(\"/data1/home/mukeshram/Natural_Language_Processing/NER/data/Indian_Names.csv\")"
   ]
  },
  {
   "cell_type": "code",
   "execution_count": 12,
   "metadata": {},
   "outputs": [],
   "source": [
    "Name_data= list(Name_data.Name)\n",
    "titles = [\"Dr\",\"MD\", \"Mr\", \"Mrs\", \"Ms\", \"Miss\", \"Mr and Mrs\"]\n"
   ]
  },
  {
   "cell_type": "code",
   "execution_count": 13,
   "metadata": {},
   "outputs": [],
   "source": [
    "with open(\"/data1/home/mukeshram/Natural_Language_Processing/NER/data/text_data/outputfile.txt\", \"r\", encoding='UTF-8') as file:\n",
    "    text =  file.read()\n",
    "\n"
   ]
  },
  {
   "cell_type": "code",
   "execution_count": 14,
   "metadata": {},
   "outputs": [
    {
     "data": {
      "text/plain": [
       "['Dr. Neelabh',\n",
       " 'M.B.B.S., D.ORTH., D.N.B. MNAMS (Gold Medalist)',\n",
       " 'Fellow Spinal Surgeon (France); Consultant Orthopaedic, Joint Replacement & Spinal Surgeon',\n",
       " 'healthybones.in',\n",
       " 'your joints specialist',\n",
       " '(Regn. No. 3079/DMC)',\n",
       " 'Cell: 9810117204 e-mail: drneelabh @healthybones. . drneelabh@yahoo.co.in',\n",
       " 'Mr. viren Agrawal',\n",
       " '20/17/18',\n",
       " '0 Pain R beel',\n",
       " '24y1m',\n",
       " 'n/o 40 Rain B inice',\n",
       " 'Jumping - week ago',\n",
       " 'bad eten.',\n",
       " 'osteoporoni',\n",
       " 'view',\n",
       " 'he',\n",
       " 'R',\n",
       " '1)2-lay',\n",
       " 'Ankle L hat Anial new for cleanum',\n",
       " 'Alview',\n",
       " '2) Calcium, uric acid, TSH, 25-0K vit Dlend',\n",
       " 'warm ealine fementation locally',\n",
       " '3) 4) Jack ANSUPER PLUS 1 tak daily 1/2 home',\n",
       " 'a 5) before Table NUCOXIA mealx 3 P 1 weak tab 2 times daily',\n",
       " 'mealx 3 weeken',\n",
       " 'had',\n",
       " '6) after silean bed pad application R',\n",
       " '7) Review with reports',\n",
       " 'mealable',\n",
       " 'vb. 14.9; TLC:7,850 (P60L26) we : 35,',\n",
       " 'creat 0.99 U.A.5.8; FBS:85; ESR: 13',\n",
       " 'Ca : 9.9; ALP:75 25-04 it D:7.69mg',\n",
       " 'T3 46 (v) i Ty : 1.4 (v) TSK:2;',\n",
       " '(vit B12:198;',\n",
       " 'Rs 1) Jab GOLDCAL D3160K) tabs) lab On alternate',\n",
       " 'days 2) fab x 3 MAXNURON weeks (10 I tab 2 times daily',\n",
       " 'x3mmth',\n",
       " 'BONE',\n",
       " 'JOINTS',\n",
       " 'SPINE',\n",
       " '3) Recirous +/t to continue as before',\n",
       " 'Kaira Hospital Timing 10:00 am 12:00 Noon; A-5 & 6. Kirti Nagar, New Delhi Ph 45005600 / 45005700',\n",
       " 'Kapoor Medical Centre Timing 12:30 pm 1:30 pm E-18, Naraina, New Delhi Ph 7533077777/25897116',\n",
       " 'KALRA',\n",
       " 'Jeewan Hospital Timing 4:00 pm 6:00 pm; 2-B, Pusa Road, New Delhi Ph 42430246/47/48/49',\n",
       " 'HOSPITAL BACKO',\n",
       " 'Clinic Intermed Timing 6:00 pm 8:00 pm; 38/16, East Patel Nagar, New Delhi-110008 Ph 25853400/1800']"
      ]
     },
     "execution_count": 14,
     "metadata": {},
     "output_type": "execute_result"
    }
   ],
   "source": [
    "text = raw_text.strip()\n",
    "text = text.split(\"\\n\")\n",
    "text"
   ]
  },
  {
   "cell_type": "code",
   "execution_count": 15,
   "metadata": {},
   "outputs": [],
   "source": [
    "Doc = []\n",
    "patient =[]\n",
    "per =[]\n",
    "\n",
    "import string\n",
    "for i in text:\n",
    "    translator = str.maketrans('', '', string.punctuation)\n",
    "    text_no_punctuation = i.translate(translator)\n",
    "    k = text_no_punctuation.split(\" \")\n",
    "\n",
    "    for j in k:\n",
    "        if j in titles:\n",
    "            per.append(i)"
   ]
  },
  {
   "cell_type": "code",
   "execution_count": 16,
   "metadata": {},
   "outputs": [],
   "source": [
    "for i in per:\n",
    "    if \"Dr\" in i:\n",
    "        Doc.append(i)\n",
    "    else:\n",
    "        patient.append(i)"
   ]
  },
  {
   "cell_type": "code",
   "execution_count": 17,
   "metadata": {},
   "outputs": [
    {
     "data": {
      "text/plain": [
       "['Dr. Neelabh']"
      ]
     },
     "execution_count": 17,
     "metadata": {},
     "output_type": "execute_result"
    }
   ],
   "source": [
    "Doc"
   ]
  },
  {
   "cell_type": "code",
   "execution_count": 18,
   "metadata": {},
   "outputs": [
    {
     "data": {
      "text/plain": [
       "['Mr. viren Agrawal']"
      ]
     },
     "execution_count": 18,
     "metadata": {},
     "output_type": "execute_result"
    }
   ],
   "source": [
    "patient"
   ]
  },
  {
   "cell_type": "code",
   "execution_count": null,
   "metadata": {},
   "outputs": [],
   "source": []
  },
  {
   "cell_type": "code",
   "execution_count": null,
   "metadata": {},
   "outputs": [],
   "source": []
  },
  {
   "cell_type": "code",
   "execution_count": null,
   "metadata": {},
   "outputs": [],
   "source": []
  },
  {
   "cell_type": "code",
   "execution_count": null,
   "metadata": {},
   "outputs": [],
   "source": []
  }
 ],
 "metadata": {
  "kernelspec": {
   "display_name": "base",
   "language": "python",
   "name": "python3"
  },
  "language_info": {
   "codemirror_mode": {
    "name": "ipython",
    "version": 3
   },
   "file_extension": ".py",
   "mimetype": "text/x-python",
   "name": "python",
   "nbconvert_exporter": "python",
   "pygments_lexer": "ipython3",
   "version": "3.10.9"
  },
  "orig_nbformat": 4
 },
 "nbformat": 4,
 "nbformat_minor": 2
}
